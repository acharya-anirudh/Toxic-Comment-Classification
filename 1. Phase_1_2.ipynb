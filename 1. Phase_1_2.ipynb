{
 "cells": [
  {
   "cell_type": "markdown",
   "metadata": {
    "colab_type": "text",
    "id": "xRnoTbev554Y"
   },
   "source": [
    "# Advance Data Mining Project : Toxic Comment Classification"
   ]
  },
  {
   "cell_type": "code",
   "execution_count": 1,
   "metadata": {
    "colab": {},
    "colab_type": "code",
    "id": "Uy_hmsIs554a"
   },
   "outputs": [],
   "source": [
    "import os\n",
    "import csv\n",
    "import pandas as pd\n",
    "import numpy as np\n",
    "import matplotlib.pyplot as plt\n",
    "import seaborn as sns"
   ]
  },
  {
   "cell_type": "markdown",
   "metadata": {
    "colab_type": "text",
    "id": "C2QP27Yp554Z"
   },
   "source": [
    "## Phase 1: Exploratory Data Analysis"
   ]
  },
  {
   "cell_type": "code",
   "execution_count": 4,
   "metadata": {
    "colab": {},
    "colab_type": "code",
    "id": "JUCJF0fLTs3V"
   },
   "outputs": [],
   "source": [
    "path=\"train.csv\"\n",
    "df=pd.read_csv(path)"
   ]
  },
  {
   "cell_type": "code",
   "execution_count": 5,
   "metadata": {
    "colab": {
     "base_uri": "https://localhost:8080/",
     "height": 289
    },
    "colab_type": "code",
    "id": "3GZgs8N4T6Ze",
    "outputId": "8b55c166-3e62-4593-87ab-21f499021be1"
   },
   "outputs": [
    {
     "data": {
      "text/html": [
       "<div>\n",
       "<style scoped>\n",
       "    .dataframe tbody tr th:only-of-type {\n",
       "        vertical-align: middle;\n",
       "    }\n",
       "\n",
       "    .dataframe tbody tr th {\n",
       "        vertical-align: top;\n",
       "    }\n",
       "\n",
       "    .dataframe thead th {\n",
       "        text-align: right;\n",
       "    }\n",
       "</style>\n",
       "<table border=\"1\" class=\"dataframe\">\n",
       "  <thead>\n",
       "    <tr style=\"text-align: right;\">\n",
       "      <th></th>\n",
       "      <th>id</th>\n",
       "      <th>comment_text</th>\n",
       "      <th>toxic</th>\n",
       "      <th>severe_toxic</th>\n",
       "      <th>obscene</th>\n",
       "      <th>threat</th>\n",
       "      <th>insult</th>\n",
       "      <th>identity_hate</th>\n",
       "    </tr>\n",
       "  </thead>\n",
       "  <tbody>\n",
       "    <tr>\n",
       "      <td>0</td>\n",
       "      <td>0000997932d777bf</td>\n",
       "      <td>Explanation\\nWhy the edits made under my usern...</td>\n",
       "      <td>0</td>\n",
       "      <td>0</td>\n",
       "      <td>0</td>\n",
       "      <td>0</td>\n",
       "      <td>0</td>\n",
       "      <td>0</td>\n",
       "    </tr>\n",
       "    <tr>\n",
       "      <td>1</td>\n",
       "      <td>000103f0d9cfb60f</td>\n",
       "      <td>D'aww! He matches this background colour I'm s...</td>\n",
       "      <td>0</td>\n",
       "      <td>0</td>\n",
       "      <td>0</td>\n",
       "      <td>0</td>\n",
       "      <td>0</td>\n",
       "      <td>0</td>\n",
       "    </tr>\n",
       "    <tr>\n",
       "      <td>2</td>\n",
       "      <td>000113f07ec002fd</td>\n",
       "      <td>Hey man, I'm really not trying to edit war. It...</td>\n",
       "      <td>0</td>\n",
       "      <td>0</td>\n",
       "      <td>0</td>\n",
       "      <td>0</td>\n",
       "      <td>0</td>\n",
       "      <td>0</td>\n",
       "    </tr>\n",
       "    <tr>\n",
       "      <td>3</td>\n",
       "      <td>0001b41b1c6bb37e</td>\n",
       "      <td>\"\\nMore\\nI can't make any real suggestions on ...</td>\n",
       "      <td>0</td>\n",
       "      <td>0</td>\n",
       "      <td>0</td>\n",
       "      <td>0</td>\n",
       "      <td>0</td>\n",
       "      <td>0</td>\n",
       "    </tr>\n",
       "    <tr>\n",
       "      <td>4</td>\n",
       "      <td>0001d958c54c6e35</td>\n",
       "      <td>You, sir, are my hero. Any chance you remember...</td>\n",
       "      <td>0</td>\n",
       "      <td>0</td>\n",
       "      <td>0</td>\n",
       "      <td>0</td>\n",
       "      <td>0</td>\n",
       "      <td>0</td>\n",
       "    </tr>\n",
       "  </tbody>\n",
       "</table>\n",
       "</div>"
      ],
      "text/plain": [
       "                 id                                       comment_text  toxic  \\\n",
       "0  0000997932d777bf  Explanation\\nWhy the edits made under my usern...      0   \n",
       "1  000103f0d9cfb60f  D'aww! He matches this background colour I'm s...      0   \n",
       "2  000113f07ec002fd  Hey man, I'm really not trying to edit war. It...      0   \n",
       "3  0001b41b1c6bb37e  \"\\nMore\\nI can't make any real suggestions on ...      0   \n",
       "4  0001d958c54c6e35  You, sir, are my hero. Any chance you remember...      0   \n",
       "\n",
       "   severe_toxic  obscene  threat  insult  identity_hate  \n",
       "0             0        0       0       0              0  \n",
       "1             0        0       0       0              0  \n",
       "2             0        0       0       0              0  \n",
       "3             0        0       0       0              0  \n",
       "4             0        0       0       0              0  "
      ]
     },
     "execution_count": 5,
     "metadata": {},
     "output_type": "execute_result"
    }
   ],
   "source": [
    "df.head()"
   ]
  },
  {
   "cell_type": "code",
   "execution_count": 6,
   "metadata": {
    "colab": {
     "base_uri": "https://localhost:8080/",
     "height": 34
    },
    "colab_type": "code",
    "id": "TbcKQLF4554i",
    "outputId": "21868091-3c42-4b49-f031-f708c3ca6a06"
   },
   "outputs": [
    {
     "data": {
      "text/plain": [
       "(16000, 8)"
      ]
     },
     "execution_count": 6,
     "metadata": {},
     "output_type": "execute_result"
    }
   ],
   "source": [
    "df = df.loc[np.random.choice(df.index, size=16000)]\n",
    "df.shape"
   ]
  },
  {
   "cell_type": "code",
   "execution_count": 7,
   "metadata": {
    "colab": {
     "base_uri": "https://localhost:8080/",
     "height": 323
    },
    "colab_type": "code",
    "id": "kQliR76v554l",
    "outputId": "515162b7-b5cd-4054-92e0-622f1c9fc2a0"
   },
   "outputs": [
    {
     "name": "stdout",
     "output_type": "stream",
     "text": [
      "Number of rows:  16000\n",
      "Number of columns: 8\n"
     ]
    },
    {
     "data": {
      "text/html": [
       "<div>\n",
       "<style scoped>\n",
       "    .dataframe tbody tr th:only-of-type {\n",
       "        vertical-align: middle;\n",
       "    }\n",
       "\n",
       "    .dataframe tbody tr th {\n",
       "        vertical-align: top;\n",
       "    }\n",
       "\n",
       "    .dataframe thead th {\n",
       "        text-align: right;\n",
       "    }\n",
       "</style>\n",
       "<table border=\"1\" class=\"dataframe\">\n",
       "  <thead>\n",
       "    <tr style=\"text-align: right;\">\n",
       "      <th></th>\n",
       "      <th>id</th>\n",
       "      <th>comment_text</th>\n",
       "      <th>toxic</th>\n",
       "      <th>severe_toxic</th>\n",
       "      <th>obscene</th>\n",
       "      <th>threat</th>\n",
       "      <th>insult</th>\n",
       "      <th>identity_hate</th>\n",
       "    </tr>\n",
       "  </thead>\n",
       "  <tbody>\n",
       "    <tr>\n",
       "      <td>110865</td>\n",
       "      <td>511a0b4879388232</td>\n",
       "      <td>Futurix, you have mistakenly presented an argu...</td>\n",
       "      <td>0</td>\n",
       "      <td>0</td>\n",
       "      <td>0</td>\n",
       "      <td>0</td>\n",
       "      <td>0</td>\n",
       "      <td>0</td>\n",
       "    </tr>\n",
       "    <tr>\n",
       "      <td>128389</td>\n",
       "      <td>aea0e111a6811cef</td>\n",
       "      <td>Media:Example.oggMedia:Example.oggMedia:Exampl...</td>\n",
       "      <td>0</td>\n",
       "      <td>0</td>\n",
       "      <td>0</td>\n",
       "      <td>0</td>\n",
       "      <td>0</td>\n",
       "      <td>0</td>\n",
       "    </tr>\n",
       "    <tr>\n",
       "      <td>121213</td>\n",
       "      <td>8888bef9452832f8</td>\n",
       "      <td>\"\\n Jivesh, he is comparing respective singles...</td>\n",
       "      <td>0</td>\n",
       "      <td>0</td>\n",
       "      <td>0</td>\n",
       "      <td>0</td>\n",
       "      <td>0</td>\n",
       "      <td>0</td>\n",
       "    </tr>\n",
       "    <tr>\n",
       "      <td>157916</td>\n",
       "      <td>e5d0ccfed12c7f79</td>\n",
       "      <td>Health \\n\\nHe was really fat. No shocker he di...</td>\n",
       "      <td>0</td>\n",
       "      <td>0</td>\n",
       "      <td>0</td>\n",
       "      <td>0</td>\n",
       "      <td>0</td>\n",
       "      <td>0</td>\n",
       "    </tr>\n",
       "    <tr>\n",
       "      <td>106509</td>\n",
       "      <td>39bc29e4b4fefc5d</td>\n",
       "      <td>\"\\n\\n Restricted biotech a characeristic of na...</td>\n",
       "      <td>0</td>\n",
       "      <td>0</td>\n",
       "      <td>0</td>\n",
       "      <td>0</td>\n",
       "      <td>0</td>\n",
       "      <td>0</td>\n",
       "    </tr>\n",
       "  </tbody>\n",
       "</table>\n",
       "</div>"
      ],
      "text/plain": [
       "                      id                                       comment_text  \\\n",
       "110865  511a0b4879388232  Futurix, you have mistakenly presented an argu...   \n",
       "128389  aea0e111a6811cef  Media:Example.oggMedia:Example.oggMedia:Exampl...   \n",
       "121213  8888bef9452832f8  \"\\n Jivesh, he is comparing respective singles...   \n",
       "157916  e5d0ccfed12c7f79  Health \\n\\nHe was really fat. No shocker he di...   \n",
       "106509  39bc29e4b4fefc5d  \"\\n\\n Restricted biotech a characeristic of na...   \n",
       "\n",
       "        toxic  severe_toxic  obscene  threat  insult  identity_hate  \n",
       "110865      0             0        0       0       0              0  \n",
       "128389      0             0        0       0       0              0  \n",
       "121213      0             0        0       0       0              0  \n",
       "157916      0             0        0       0       0              0  \n",
       "106509      0             0        0       0       0              0  "
      ]
     },
     "execution_count": 7,
     "metadata": {},
     "output_type": "execute_result"
    }
   ],
   "source": [
    "print(\"Number of rows: \",df.shape[0])\n",
    "print(\"Number of columns:\",df.shape[1])\n",
    "df.head()"
   ]
  },
  {
   "cell_type": "markdown",
   "metadata": {
    "colab_type": "text",
    "id": "IFiypKPN554o"
   },
   "source": [
    "### Check if any missing values are present"
   ]
  },
  {
   "cell_type": "code",
   "execution_count": 8,
   "metadata": {
    "colab": {
     "base_uri": "https://localhost:8080/",
     "height": 170
    },
    "colab_type": "code",
    "id": "8qR8HJd8554o",
    "outputId": "db54bf5c-b6d8-4b8b-85c9-d28c37745caa"
   },
   "outputs": [
    {
     "name": "stdout",
     "output_type": "stream",
     "text": [
      "id               0\n",
      "comment_text     0\n",
      "toxic            0\n",
      "severe_toxic     0\n",
      "obscene          0\n",
      "threat           0\n",
      "insult           0\n",
      "identity_hate    0\n",
      "dtype: int64\n"
     ]
    }
   ],
   "source": [
    "print(df.isnull().sum())"
   ]
  },
  {
   "cell_type": "markdown",
   "metadata": {
    "colab_type": "text",
    "id": "QGtdGlej554r"
   },
   "source": [
    "### Find the number of comments under each label"
   ]
  },
  {
   "cell_type": "code",
   "execution_count": 9,
   "metadata": {
    "colab": {
     "base_uri": "https://localhost:8080/",
     "height": 34
    },
    "colab_type": "code",
    "id": "LdQjyUuu554u",
    "outputId": "e2aa6787-0784-40d6-fee6-76c56d89480b",
    "scrolled": true
   },
   "outputs": [
    {
     "name": "stdout",
     "output_type": "stream",
     "text": [
      "['toxic', 'severe_toxic', 'obscene', 'threat', 'insult', 'identity_hate']\n"
     ]
    }
   ],
   "source": [
    "labels = list(df.columns.values)\n",
    "labels = labels[2:]\n",
    "print(labels)"
   ]
  },
  {
   "cell_type": "code",
   "execution_count": 10,
   "metadata": {
    "colab": {
     "base_uri": "https://localhost:8080/",
     "height": 235
    },
    "colab_type": "code",
    "id": "GFatgaLb554x",
    "outputId": "9630ee32-e597-4986-99ec-342da1ef3ac7"
   },
   "outputs": [
    {
     "data": {
      "text/html": [
       "<div>\n",
       "<style scoped>\n",
       "    .dataframe tbody tr th:only-of-type {\n",
       "        vertical-align: middle;\n",
       "    }\n",
       "\n",
       "    .dataframe tbody tr th {\n",
       "        vertical-align: top;\n",
       "    }\n",
       "\n",
       "    .dataframe thead th {\n",
       "        text-align: right;\n",
       "    }\n",
       "</style>\n",
       "<table border=\"1\" class=\"dataframe\">\n",
       "  <thead>\n",
       "    <tr style=\"text-align: right;\">\n",
       "      <th></th>\n",
       "      <th>category</th>\n",
       "      <th>no. of comments</th>\n",
       "    </tr>\n",
       "  </thead>\n",
       "  <tbody>\n",
       "    <tr>\n",
       "      <td>0</td>\n",
       "      <td>toxic</td>\n",
       "      <td>1522</td>\n",
       "    </tr>\n",
       "    <tr>\n",
       "      <td>1</td>\n",
       "      <td>severe_toxic</td>\n",
       "      <td>167</td>\n",
       "    </tr>\n",
       "    <tr>\n",
       "      <td>2</td>\n",
       "      <td>obscene</td>\n",
       "      <td>800</td>\n",
       "    </tr>\n",
       "    <tr>\n",
       "      <td>3</td>\n",
       "      <td>threat</td>\n",
       "      <td>41</td>\n",
       "    </tr>\n",
       "    <tr>\n",
       "      <td>4</td>\n",
       "      <td>insult</td>\n",
       "      <td>785</td>\n",
       "    </tr>\n",
       "    <tr>\n",
       "      <td>5</td>\n",
       "      <td>identity_hate</td>\n",
       "      <td>139</td>\n",
       "    </tr>\n",
       "  </tbody>\n",
       "</table>\n",
       "</div>"
      ],
      "text/plain": [
       "        category  no. of comments\n",
       "0          toxic             1522\n",
       "1   severe_toxic              167\n",
       "2        obscene              800\n",
       "3         threat               41\n",
       "4         insult              785\n",
       "5  identity_hate              139"
      ]
     },
     "execution_count": 10,
     "metadata": {},
     "output_type": "execute_result"
    }
   ],
   "source": [
    "label_counts= []\n",
    "for label in labels:\n",
    "    label_counts.append((label, df[label].sum()))\n",
    "cat_noofcomments =pd.DataFrame(label_counts, columns=['category', 'no. of comments'])\n",
    "cat_noofcomments"
   ]
  },
  {
   "cell_type": "code",
   "execution_count": 11,
   "metadata": {
    "colab": {
     "base_uri": "https://localhost:8080/",
     "height": 68
    },
    "colab_type": "code",
    "id": "Jca-2CsM554s",
    "outputId": "20f74c7f-e962-4502-d0a1-bd8546c2da63"
   },
   "outputs": [
    {
     "name": "stdout",
     "output_type": "stream",
     "text": [
      "Total number of comments =  16000\n",
      "Number of clean comments =  14386\n",
      "Number of comments with labels = 1614\n"
     ]
    }
   ],
   "source": [
    "df['sums']=df.iloc[:,2:].sum(axis=1)\n",
    "print(\"Total number of comments = \",len(df))\n",
    "count_cleancomments=df[df['sums']==0]\n",
    "print(\"Number of clean comments = \",len(count_cleancomments))\n",
    "print(\"Number of comments with labels =\",(len(df)-len(count_cleancomments)))"
   ]
  },
  {
   "cell_type": "code",
   "execution_count": 12,
   "metadata": {
    "colab": {},
    "colab_type": "code",
    "id": "bwSi3WASwmAk"
   },
   "outputs": [],
   "source": [
    "updatestats= cat_noofcomments.append({'category' : 'clean' , 'no. of comments' : len(count_cleancomments)} , ignore_index=True)"
   ]
  },
  {
   "cell_type": "code",
   "execution_count": 13,
   "metadata": {
    "colab": {
     "base_uri": "https://localhost:8080/",
     "height": 266
    },
    "colab_type": "code",
    "id": "oHruxhY0wmAn",
    "outputId": "d739e8d6-807b-4b69-80ca-8d7187aa2180"
   },
   "outputs": [
    {
     "data": {
      "text/html": [
       "<div>\n",
       "<style scoped>\n",
       "    .dataframe tbody tr th:only-of-type {\n",
       "        vertical-align: middle;\n",
       "    }\n",
       "\n",
       "    .dataframe tbody tr th {\n",
       "        vertical-align: top;\n",
       "    }\n",
       "\n",
       "    .dataframe thead th {\n",
       "        text-align: right;\n",
       "    }\n",
       "</style>\n",
       "<table border=\"1\" class=\"dataframe\">\n",
       "  <thead>\n",
       "    <tr style=\"text-align: right;\">\n",
       "      <th></th>\n",
       "      <th>category</th>\n",
       "      <th>no. of comments</th>\n",
       "    </tr>\n",
       "  </thead>\n",
       "  <tbody>\n",
       "    <tr>\n",
       "      <td>0</td>\n",
       "      <td>toxic</td>\n",
       "      <td>1522</td>\n",
       "    </tr>\n",
       "    <tr>\n",
       "      <td>1</td>\n",
       "      <td>severe_toxic</td>\n",
       "      <td>167</td>\n",
       "    </tr>\n",
       "    <tr>\n",
       "      <td>2</td>\n",
       "      <td>obscene</td>\n",
       "      <td>800</td>\n",
       "    </tr>\n",
       "    <tr>\n",
       "      <td>3</td>\n",
       "      <td>threat</td>\n",
       "      <td>41</td>\n",
       "    </tr>\n",
       "    <tr>\n",
       "      <td>4</td>\n",
       "      <td>insult</td>\n",
       "      <td>785</td>\n",
       "    </tr>\n",
       "    <tr>\n",
       "      <td>5</td>\n",
       "      <td>identity_hate</td>\n",
       "      <td>139</td>\n",
       "    </tr>\n",
       "    <tr>\n",
       "      <td>6</td>\n",
       "      <td>clean</td>\n",
       "      <td>14386</td>\n",
       "    </tr>\n",
       "  </tbody>\n",
       "</table>\n",
       "</div>"
      ],
      "text/plain": [
       "        category  no. of comments\n",
       "0          toxic             1522\n",
       "1   severe_toxic              167\n",
       "2        obscene              800\n",
       "3         threat               41\n",
       "4         insult              785\n",
       "5  identity_hate              139\n",
       "6          clean            14386"
      ]
     },
     "execution_count": 13,
     "metadata": {},
     "output_type": "execute_result"
    }
   ],
   "source": [
    "updatestats"
   ]
  },
  {
   "cell_type": "code",
   "execution_count": 14,
   "metadata": {
    "colab": {
     "base_uri": "https://localhost:8080/",
     "height": 509
    },
    "colab_type": "code",
    "id": "l_st4kwXwmAr",
    "outputId": "54b4313f-1721-4047-c061-a4a00587c4b5"
   },
   "outputs": [
    {
     "data": {
      "image/png": "[encoded data removed]",
      "text/plain": [
       "<Figure size 576x576 with 1 Axes>"
      ]
     },
     "metadata": {},
     "output_type": "display_data"
    }
   ],
   "source": [
    "sns.set(font_scale = 1)\n",
    "plt.figure(figsize=(8,8))\n",
    "ax = sns.barplot(x=\"category\",y=\"no. of comments\",data=updatestats)"
   ]
  },
  {
   "cell_type": "markdown",
   "metadata": {
    "colab_type": "text",
    "id": "UsjE9LfB5542"
   },
   "source": [
    "### Calculating number of comments having multiple labels"
   ]
  },
  {
   "cell_type": "code",
   "execution_count": 15,
   "metadata": {
    "colab": {
     "base_uri": "https://localhost:8080/",
     "height": 519
    },
    "colab_type": "code",
    "id": "4Z1mCh2i5540",
    "outputId": "ef0acd04-15f9-4851-90c7-0438947d0ada"
   },
   "outputs": [
    {
     "data": {
      "image/png": "[encoded data removed]",
      "text/plain": [
       "<Figure size 576x576 with 1 Axes>"
      ]
     },
     "metadata": {},
     "output_type": "display_data"
    }
   ],
   "source": [
    "count_multilabel = df['sums'].value_counts()\n",
    "# print(count_multilabel)\n",
    "count_multilabel = count_multilabel.iloc[1:]\n",
    "\n",
    "sns.set(font_scale=1)\n",
    "plt.figure(figsize=(8,8))\n",
    "\n",
    "ax = sns.barplot(count_multilabel.index, count_multilabel.values)\n",
    "\n",
    "\n",
    "plt.title(\"No. of Comments with number of labels attached\", fontsize=14)\n",
    "plt.ylabel('No. of comments', fontsize=12)\n",
    "plt.xlabel('No. of labels', fontsize=12)\n",
    "\n",
    "plt.show()"
   ]
  },
  {
   "cell_type": "markdown",
   "metadata": {
    "colab_type": "text",
    "id": "zAcEt7Tt5549"
   },
   "source": [
    "## Data Preprocessing"
   ]
  },
  {
   "cell_type": "code",
   "execution_count": 16,
   "metadata": {
    "colab": {},
    "colab_type": "code",
    "id": "3XGDsNBy555B"
   },
   "outputs": [],
   "source": [
    "import nltk\n",
    "from nltk.corpus import stopwords\n",
    "from nltk.stem.snowball import SnowballStemmer\n",
    "import re"
   ]
  },
  {
   "cell_type": "markdown",
   "metadata": {
    "colab_type": "text",
    "id": "22rq_G-K555D"
   },
   "source": [
    "### Cleaning Data"
   ]
  },
  {
   "cell_type": "code",
   "execution_count": 17,
   "metadata": {
    "colab": {},
    "colab_type": "code",
    "id": "cDZZ2cub555E"
   },
   "outputs": [],
   "source": [
    "def removehtml(text):\n",
    "    ctags=re.compile('<.*?>')\n",
    "    withouthtml=re.sub(ctags,' ',str(text))\n",
    "    return withouthtml\n",
    "\n",
    "def removeextra(text):\n",
    "    regex=re.compile('[^a-zA-Z\\s]')\n",
    "    cleanedtext = re.sub(regex,'',text)\n",
    "    cleanedtext= cleanedtext.replace(\"\\n\",'')\n",
    "    cleanedtext= cleanedtext.strip()\n",
    "    return cleanedtext"
   ]
  },
  {
   "cell_type": "code",
   "execution_count": 18,
   "metadata": {
    "colab": {
     "base_uri": "https://localhost:8080/",
     "height": 306
    },
    "colab_type": "code",
    "id": "2kTzCt-U555G",
    "outputId": "fefe775a-1ab0-4938-f6f3-e43c6af8f2a1"
   },
   "outputs": [
    {
     "data": {
      "text/html": [
       "<div>\n",
       "<style scoped>\n",
       "    .dataframe tbody tr th:only-of-type {\n",
       "        vertical-align: middle;\n",
       "    }\n",
       "\n",
       "    .dataframe tbody tr th {\n",
       "        vertical-align: top;\n",
       "    }\n",
       "\n",
       "    .dataframe thead th {\n",
       "        text-align: right;\n",
       "    }\n",
       "</style>\n",
       "<table border=\"1\" class=\"dataframe\">\n",
       "  <thead>\n",
       "    <tr style=\"text-align: right;\">\n",
       "      <th></th>\n",
       "      <th>id</th>\n",
       "      <th>comment_text</th>\n",
       "      <th>toxic</th>\n",
       "      <th>severe_toxic</th>\n",
       "      <th>obscene</th>\n",
       "      <th>threat</th>\n",
       "      <th>insult</th>\n",
       "      <th>identity_hate</th>\n",
       "      <th>sums</th>\n",
       "    </tr>\n",
       "  </thead>\n",
       "  <tbody>\n",
       "    <tr>\n",
       "      <td>110865</td>\n",
       "      <td>511a0b4879388232</td>\n",
       "      <td>futurix you have mistakenly presented an argue...</td>\n",
       "      <td>0</td>\n",
       "      <td>0</td>\n",
       "      <td>0</td>\n",
       "      <td>0</td>\n",
       "      <td>0</td>\n",
       "      <td>0</td>\n",
       "      <td>0</td>\n",
       "    </tr>\n",
       "    <tr>\n",
       "      <td>128389</td>\n",
       "      <td>aea0e111a6811cef</td>\n",
       "      <td>mediaexampleoggmediaexampleoggmediaexampleoggi...</td>\n",
       "      <td>0</td>\n",
       "      <td>0</td>\n",
       "      <td>0</td>\n",
       "      <td>0</td>\n",
       "      <td>0</td>\n",
       "      <td>0</td>\n",
       "      <td>0</td>\n",
       "    </tr>\n",
       "    <tr>\n",
       "      <td>121213</td>\n",
       "      <td>8888bef9452832f8</td>\n",
       "      <td>jivesh he is comparing respective singles rele...</td>\n",
       "      <td>0</td>\n",
       "      <td>0</td>\n",
       "      <td>0</td>\n",
       "      <td>0</td>\n",
       "      <td>0</td>\n",
       "      <td>0</td>\n",
       "      <td>0</td>\n",
       "    </tr>\n",
       "    <tr>\n",
       "      <td>157916</td>\n",
       "      <td>e5d0ccfed12c7f79</td>\n",
       "      <td>health he was really fat no shocker he died</td>\n",
       "      <td>0</td>\n",
       "      <td>0</td>\n",
       "      <td>0</td>\n",
       "      <td>0</td>\n",
       "      <td>0</td>\n",
       "      <td>0</td>\n",
       "      <td>0</td>\n",
       "    </tr>\n",
       "    <tr>\n",
       "      <td>106509</td>\n",
       "      <td>39bc29e4b4fefc5d</td>\n",
       "      <td>restricted biotech a characeristic of nanopunk...</td>\n",
       "      <td>0</td>\n",
       "      <td>0</td>\n",
       "      <td>0</td>\n",
       "      <td>0</td>\n",
       "      <td>0</td>\n",
       "      <td>0</td>\n",
       "      <td>0</td>\n",
       "    </tr>\n",
       "  </tbody>\n",
       "</table>\n",
       "</div>"
      ],
      "text/plain": [
       "                      id                                       comment_text  \\\n",
       "110865  511a0b4879388232  futurix you have mistakenly presented an argue...   \n",
       "128389  aea0e111a6811cef  mediaexampleoggmediaexampleoggmediaexampleoggi...   \n",
       "121213  8888bef9452832f8  jivesh he is comparing respective singles rele...   \n",
       "157916  e5d0ccfed12c7f79        health he was really fat no shocker he died   \n",
       "106509  39bc29e4b4fefc5d  restricted biotech a characeristic of nanopunk...   \n",
       "\n",
       "        toxic  severe_toxic  obscene  threat  insult  identity_hate  sums  \n",
       "110865      0             0        0       0       0              0     0  \n",
       "128389      0             0        0       0       0              0     0  \n",
       "121213      0             0        0       0       0              0     0  \n",
       "157916      0             0        0       0       0              0     0  \n",
       "106509      0             0        0       0       0              0     0  "
      ]
     },
     "execution_count": 18,
     "metadata": {},
     "output_type": "execute_result"
    }
   ],
   "source": [
    "df['comment_text']= df['comment_text'].str.lower()\n",
    "df['comment_text']= df['comment_text'].apply(removehtml)\n",
    "df['comment_text']= df['comment_text'].apply(removeextra)\n",
    "df.head()"
   ]
  },
  {
   "cell_type": "markdown",
   "metadata": {
    "colab_type": "text",
    "id": "x_TXtYe9555J"
   },
   "source": [
    "### Removing Stop Words"
   ]
  },
  {
   "cell_type": "code",
   "execution_count": 19,
   "metadata": {
    "colab": {},
    "colab_type": "code",
    "id": "ijx45MrawmA-"
   },
   "outputs": [],
   "source": [
    "def removestopwords(text):\n",
    "    new_words=[]\n",
    "    for w in text.split():\n",
    "        if w not in stop_words:\n",
    "            new_words.append(w)\n",
    "    removedstop=' '.join(word for word in new_words)\n",
    "    return removedstop\n",
    "\n",
    "def Union(lst1, lst2): \n",
    "    final_list = list(set(lst1) | set(lst2)) \n",
    "    return final_list "
   ]
  },
  {
   "cell_type": "code",
   "execution_count": 20,
   "metadata": {
    "colab": {
     "base_uri": "https://localhost:8080/",
     "height": 289
    },
    "colab_type": "code",
    "id": "KXajoopQ555K",
    "outputId": "337f1cc7-85b0-411c-b848-6a3e363c0bec"
   },
   "outputs": [
    {
     "name": "stderr",
     "output_type": "stream",
     "text": [
      "[nltk_data] Downloading package stopwords to /home/cli-\n",
      "[nltk_data]     ninja/nltk_data...\n",
      "[nltk_data]   Package stopwords is already up-to-date!\n"
     ]
    },
    {
     "data": {
      "text/html": [
       "<div>\n",
       "<style scoped>\n",
       "    .dataframe tbody tr th:only-of-type {\n",
       "        vertical-align: middle;\n",
       "    }\n",
       "\n",
       "    .dataframe tbody tr th {\n",
       "        vertical-align: top;\n",
       "    }\n",
       "\n",
       "    .dataframe thead th {\n",
       "        text-align: right;\n",
       "    }\n",
       "</style>\n",
       "<table border=\"1\" class=\"dataframe\">\n",
       "  <thead>\n",
       "    <tr style=\"text-align: right;\">\n",
       "      <th></th>\n",
       "      <th>id</th>\n",
       "      <th>comment_text</th>\n",
       "      <th>toxic</th>\n",
       "      <th>severe_toxic</th>\n",
       "      <th>obscene</th>\n",
       "      <th>threat</th>\n",
       "      <th>insult</th>\n",
       "      <th>identity_hate</th>\n",
       "      <th>sums</th>\n",
       "    </tr>\n",
       "  </thead>\n",
       "  <tbody>\n",
       "    <tr>\n",
       "      <td>110865</td>\n",
       "      <td>511a0b4879388232</td>\n",
       "      <td>futurix mistakenly presented arguement extensi...</td>\n",
       "      <td>0</td>\n",
       "      <td>0</td>\n",
       "      <td>0</td>\n",
       "      <td>0</td>\n",
       "      <td>0</td>\n",
       "      <td>0</td>\n",
       "      <td>0</td>\n",
       "    </tr>\n",
       "    <tr>\n",
       "      <td>128389</td>\n",
       "      <td>aea0e111a6811cef</td>\n",
       "      <td>mediaexampleoggmediaexampleoggmediaexampleoggi...</td>\n",
       "      <td>0</td>\n",
       "      <td>0</td>\n",
       "      <td>0</td>\n",
       "      <td>0</td>\n",
       "      <td>0</td>\n",
       "      <td>0</td>\n",
       "      <td>0</td>\n",
       "    </tr>\n",
       "    <tr>\n",
       "      <td>121213</td>\n",
       "      <td>8888bef9452832f8</td>\n",
       "      <td>jivesh comparing respective singles released y...</td>\n",
       "      <td>0</td>\n",
       "      <td>0</td>\n",
       "      <td>0</td>\n",
       "      <td>0</td>\n",
       "      <td>0</td>\n",
       "      <td>0</td>\n",
       "      <td>0</td>\n",
       "    </tr>\n",
       "    <tr>\n",
       "      <td>157916</td>\n",
       "      <td>e5d0ccfed12c7f79</td>\n",
       "      <td>health really fat shocker died</td>\n",
       "      <td>0</td>\n",
       "      <td>0</td>\n",
       "      <td>0</td>\n",
       "      <td>0</td>\n",
       "      <td>0</td>\n",
       "      <td>0</td>\n",
       "      <td>0</td>\n",
       "    </tr>\n",
       "    <tr>\n",
       "      <td>106509</td>\n",
       "      <td>39bc29e4b4fefc5d</td>\n",
       "      <td>restricted biotech characeristic nanopunk nd s...</td>\n",
       "      <td>0</td>\n",
       "      <td>0</td>\n",
       "      <td>0</td>\n",
       "      <td>0</td>\n",
       "      <td>0</td>\n",
       "      <td>0</td>\n",
       "      <td>0</td>\n",
       "    </tr>\n",
       "  </tbody>\n",
       "</table>\n",
       "</div>"
      ],
      "text/plain": [
       "                      id                                       comment_text  \\\n",
       "110865  511a0b4879388232  futurix mistakenly presented arguement extensi...   \n",
       "128389  aea0e111a6811cef  mediaexampleoggmediaexampleoggmediaexampleoggi...   \n",
       "121213  8888bef9452832f8  jivesh comparing respective singles released y...   \n",
       "157916  e5d0ccfed12c7f79                     health really fat shocker died   \n",
       "106509  39bc29e4b4fefc5d  restricted biotech characeristic nanopunk nd s...   \n",
       "\n",
       "        toxic  severe_toxic  obscene  threat  insult  identity_hate  sums  \n",
       "110865      0             0        0       0       0              0     0  \n",
       "128389      0             0        0       0       0              0     0  \n",
       "121213      0             0        0       0       0              0     0  \n",
       "157916      0             0        0       0       0              0     0  \n",
       "106509      0             0        0       0       0              0     0  "
      ]
     },
     "execution_count": 20,
     "metadata": {},
     "output_type": "execute_result"
    }
   ],
   "source": [
    "nltk.download('stopwords')\n",
    "stop_words = set(stopwords.words('english'))\n",
    "our_stop_words=set(['nine','eight','seven','six','five','four','three','two','one','zero','among','may','across','yet','within','also','however','beside'])\n",
    "stop_words = Union(stop_words,our_stop_words)\n",
    "df['comment_text']= df['comment_text'].apply(removestopwords)\n",
    "df.head()"
   ]
  },
  {
   "cell_type": "markdown",
   "metadata": {
    "colab_type": "text",
    "id": "YJIfFuXP555N"
   },
   "source": [
    "### Perform Stemming"
   ]
  },
  {
   "cell_type": "code",
   "execution_count": 21,
   "metadata": {
    "colab": {
     "base_uri": "https://localhost:8080/",
     "height": 289
    },
    "colab_type": "code",
    "id": "fCfuuLEt555P",
    "outputId": "9a6d4792-eb43-41ab-a51b-fe246ba4fe74"
   },
   "outputs": [
    {
     "data": {
      "text/html": [
       "<div>\n",
       "<style scoped>\n",
       "    .dataframe tbody tr th:only-of-type {\n",
       "        vertical-align: middle;\n",
       "    }\n",
       "\n",
       "    .dataframe tbody tr th {\n",
       "        vertical-align: top;\n",
       "    }\n",
       "\n",
       "    .dataframe thead th {\n",
       "        text-align: right;\n",
       "    }\n",
       "</style>\n",
       "<table border=\"1\" class=\"dataframe\">\n",
       "  <thead>\n",
       "    <tr style=\"text-align: right;\">\n",
       "      <th></th>\n",
       "      <th>id</th>\n",
       "      <th>comment_text</th>\n",
       "      <th>toxic</th>\n",
       "      <th>severe_toxic</th>\n",
       "      <th>obscene</th>\n",
       "      <th>threat</th>\n",
       "      <th>insult</th>\n",
       "      <th>identity_hate</th>\n",
       "      <th>sums</th>\n",
       "    </tr>\n",
       "  </thead>\n",
       "  <tbody>\n",
       "    <tr>\n",
       "      <td>110865</td>\n",
       "      <td>511a0b4879388232</td>\n",
       "      <td>futurix mistaken present arguement extens argu...</td>\n",
       "      <td>0</td>\n",
       "      <td>0</td>\n",
       "      <td>0</td>\n",
       "      <td>0</td>\n",
       "      <td>0</td>\n",
       "      <td>0</td>\n",
       "      <td>0</td>\n",
       "    </tr>\n",
       "    <tr>\n",
       "      <td>128389</td>\n",
       "      <td>aea0e111a6811cef</td>\n",
       "      <td>mediaexampleoggmediaexampleoggmediaexampleoggi...</td>\n",
       "      <td>0</td>\n",
       "      <td>0</td>\n",
       "      <td>0</td>\n",
       "      <td>0</td>\n",
       "      <td>0</td>\n",
       "      <td>0</td>\n",
       "      <td>0</td>\n",
       "    </tr>\n",
       "    <tr>\n",
       "      <td>121213</td>\n",
       "      <td>8888bef9452832f8</td>\n",
       "      <td>jivesh compar respect singl releas year singer...</td>\n",
       "      <td>0</td>\n",
       "      <td>0</td>\n",
       "      <td>0</td>\n",
       "      <td>0</td>\n",
       "      <td>0</td>\n",
       "      <td>0</td>\n",
       "      <td>0</td>\n",
       "    </tr>\n",
       "    <tr>\n",
       "      <td>157916</td>\n",
       "      <td>e5d0ccfed12c7f79</td>\n",
       "      <td>health realli fat shocker die</td>\n",
       "      <td>0</td>\n",
       "      <td>0</td>\n",
       "      <td>0</td>\n",
       "      <td>0</td>\n",
       "      <td>0</td>\n",
       "      <td>0</td>\n",
       "      <td>0</td>\n",
       "    </tr>\n",
       "    <tr>\n",
       "      <td>106509</td>\n",
       "      <td>39bc29e4b4fefc5d</td>\n",
       "      <td>restrict biotech characerist nanopunk nd sente...</td>\n",
       "      <td>0</td>\n",
       "      <td>0</td>\n",
       "      <td>0</td>\n",
       "      <td>0</td>\n",
       "      <td>0</td>\n",
       "      <td>0</td>\n",
       "      <td>0</td>\n",
       "    </tr>\n",
       "  </tbody>\n",
       "</table>\n",
       "</div>"
      ],
      "text/plain": [
       "                      id                                       comment_text  \\\n",
       "110865  511a0b4879388232  futurix mistaken present arguement extens argu...   \n",
       "128389  aea0e111a6811cef  mediaexampleoggmediaexampleoggmediaexampleoggi...   \n",
       "121213  8888bef9452832f8  jivesh compar respect singl releas year singer...   \n",
       "157916  e5d0ccfed12c7f79                      health realli fat shocker die   \n",
       "106509  39bc29e4b4fefc5d  restrict biotech characerist nanopunk nd sente...   \n",
       "\n",
       "        toxic  severe_toxic  obscene  threat  insult  identity_hate  sums  \n",
       "110865      0             0        0       0       0              0     0  \n",
       "128389      0             0        0       0       0              0     0  \n",
       "121213      0             0        0       0       0              0     0  \n",
       "157916      0             0        0       0       0              0     0  \n",
       "106509      0             0        0       0       0              0     0  "
      ]
     },
     "execution_count": 21,
     "metadata": {},
     "output_type": "execute_result"
    }
   ],
   "source": [
    "ss=SnowballStemmer(\"english\")\n",
    "def stem(text):\n",
    "    stemtext=[]\n",
    "    for word in text.split():\n",
    "        stem= ss.stem(word)\n",
    "        stemtext.append(stem)\n",
    "    stemsen=' '.join(word for word in stemtext)\n",
    "    return stemsen\n",
    "\n",
    "df['comment_text'] = df['comment_text'].apply(stem)\n",
    "df.head()"
   ]
  },
  {
   "cell_type": "markdown",
   "metadata": {
    "colab_type": "text",
    "id": "Cvp3XwC2555V"
   },
   "source": [
    "### Splitting dataset into train and test"
   ]
  },
  {
   "cell_type": "code",
   "execution_count": 22,
   "metadata": {
    "colab": {
     "base_uri": "https://localhost:8080/",
     "height": 51
    },
    "colab_type": "code",
    "id": "nhnv2GS7555W",
    "outputId": "eb8c6fdb-2ce8-4647-82fd-b72b78eb8877"
   },
   "outputs": [
    {
     "name": "stdout",
     "output_type": "stream",
     "text": [
      "(11200, 9)\n",
      "(4800, 9)\n"
     ]
    }
   ],
   "source": [
    "from sklearn.model_selection import train_test_split\n",
    "train, test = train_test_split(df, random_state=42, test_size=0.30, shuffle=True)\n",
    "\n",
    "print(train.shape)\n",
    "print(test.shape)"
   ]
  },
  {
   "cell_type": "code",
   "execution_count": 23,
   "metadata": {
    "colab": {},
    "colab_type": "code",
    "id": "SglrD_6W555Z"
   },
   "outputs": [],
   "source": [
    "train_output = train['comment_text']\n",
    "test_output = test['comment_text']"
   ]
  },
  {
   "cell_type": "markdown",
   "metadata": {
    "colab_type": "text",
    "id": "bFjTm29B555a"
   },
   "source": [
    "### Creating TF-IDF vector for train and test data"
   ]
  },
  {
   "cell_type": "code",
   "execution_count": 24,
   "metadata": {
    "colab": {
     "base_uri": "https://localhost:8080/",
     "height": 136
    },
    "colab_type": "code",
    "id": "q9nR4pJY555b",
    "outputId": "8c18398a-3f49-4af2-8675-a8cca523d0ac"
   },
   "outputs": [
    {
     "data": {
      "text/plain": [
       "TfidfVectorizer(analyzer='word', binary=False, decode_error='strict',\n",
       "                dtype=<class 'numpy.float64'>, encoding='utf-8',\n",
       "                input='content', lowercase=True, max_df=1.0, max_features=None,\n",
       "                min_df=1, ngram_range=(1, 3), norm='l2', preprocessor=None,\n",
       "                smooth_idf=True, stop_words=None, strip_accents='unicode',\n",
       "                sublinear_tf=False, token_pattern='(?u)\\\\b\\\\w\\\\w+\\\\b',\n",
       "                tokenizer=None, use_idf=True, vocabulary=None)"
      ]
     },
     "execution_count": 24,
     "metadata": {},
     "output_type": "execute_result"
    }
   ],
   "source": [
    "from sklearn.feature_extraction.text import TfidfVectorizer\n",
    "tfidf_vector = TfidfVectorizer(strip_accents='unicode',  norm='l2', analyzer='word', ngram_range=(1,3))\n",
    "tfidf_vector.fit(train_output)\n",
    "tfidf_vector.fit(test_output)"
   ]
  },
  {
   "cell_type": "code",
   "execution_count": 25,
   "metadata": {
    "colab": {},
    "colab_type": "code",
    "id": "497dIBA82IfZ"
   },
   "outputs": [],
   "source": [
    "x_train = tfidf_vector.transform(train_output)\n",
    "y_train = train.drop(labels = ['id','comment_text','sums'], axis=1)\n",
    "\n",
    "x_test = tfidf_vector.transform(test_output)\n",
    "y_test = test.drop(labels = ['id','comment_text','sums'], axis=1)"
   ]
  },
  {
   "cell_type": "markdown",
   "metadata": {
    "colab_type": "text",
    "id": "xMCF9EjM555f"
   },
   "source": [
    "## Phase 2: Multi Label Classification using Logistic Regression"
   ]
  },
  {
   "cell_type": "markdown",
   "metadata": {
    "colab_type": "text",
    "id": "gxgFKFGe555g"
   },
   "source": [
    "### 1. One Vs Rest Classifier"
   ]
  },
  {
   "cell_type": "code",
   "execution_count": 26,
   "metadata": {
    "colab": {
     "base_uri": "https://localhost:8080/",
     "height": 255
    },
    "colab_type": "code",
    "id": "yxeBPjyQ555h",
    "outputId": "cfe1d482-0c5b-4782-a3c0-ddec1f6e7e8b"
   },
   "outputs": [
    {
     "name": "stdout",
     "output_type": "stream",
     "text": [
      "toxic Accuracy Score = 0.9204166666666667 \n",
      "\n",
      "severe_toxic Accuracy Score = 0.9920833333333333 \n",
      "\n",
      "obscene Accuracy Score = 0.954375 \n",
      "\n",
      "threat Accuracy Score = 0.9975 \n",
      "\n",
      "insult Accuracy Score = 0.95375 \n",
      "\n",
      "identity_hate Accuracy Score = 0.9914583333333333 \n",
      "\n",
      "CPU times: user 1.51 s, sys: 24.9 ms, total: 1.54 s\n",
      "Wall time: 2 s\n"
     ]
    }
   ],
   "source": [
    "%%time\n",
    "from sklearn.linear_model import LogisticRegression\n",
    "from sklearn.metrics import accuracy_score\n",
    "from sklearn.multiclass import OneVsRestClassifier\n",
    "ovr_model = LogisticRegression(multi_class='ovr',  solver='sag', n_jobs=-1)\n",
    "for label in labels:\n",
    "    ovr_model.fit(x_train, train[label])\n",
    "    ovr_output = ovr_model.predict(x_test)\n",
    "    print('{} Accuracy Score = {} \\n'.format(label, accuracy_score(test[label], ovr_output)))"
   ]
  },
  {
   "cell_type": "markdown",
   "metadata": {
    "colab_type": "text",
    "id": "M2s9Ce_T555l"
   },
   "source": [
    "### 2. Binary Relevance"
   ]
  },
  {
   "cell_type": "code",
   "execution_count": null,
   "metadata": {
    "colab": {
     "base_uri": "https://localhost:8080/",
     "height": 51
    },
    "colab_type": "code",
    "id": "BzaWX6vS555l",
    "outputId": "9f078f74-fe41-4b24-f42d-0e38de119154"
   },
   "outputs": [],
   "source": [
    "%%time\n",
    "from skmultilearn.problem_transform import BinaryRelevance\n",
    "br_model = BinaryRelevance(LogisticRegression())\n",
    "br_model.fit(x_train, y_train)\n",
    "br_output = br_model.predict(x_test)\n"
   ]
  },
  {
   "cell_type": "code",
   "execution_count": 28,
   "metadata": {
    "colab": {
     "base_uri": "https://localhost:8080/",
     "height": 68
    },
    "colab_type": "code",
    "id": "dCFR6Yp0BJZQ",
    "outputId": "9ea7bdf4-8ace-415a-8e4a-868fbab82ec1"
   },
   "outputs": [
    {
     "name": "stdout",
     "output_type": "stream",
     "text": [
      "Accuracy Score =  0.8654166666666666\n",
      "\n",
      "\n"
     ]
    }
   ],
   "source": [
    "\n",
    "print(\"Accuracy Score = \",accuracy_score(y_test,br_output))\n",
    "print(\"\\n\")"
   ]
  },
  {
   "cell_type": "markdown",
   "metadata": {
    "colab_type": "text",
    "id": "lpcwJCvl555o"
   },
   "source": [
    "### 3. Classifier Chains"
   ]
  },
  {
   "cell_type": "code",
   "execution_count": 0,
   "metadata": {
    "colab": {},
    "colab_type": "code",
    "id": "G0sTtjiQ555p"
   },
   "outputs": [],
   "source": [
    "%%time\n",
    "from skmultilearn.problem_transform import ClassifierChain\n",
    "from sklearn.linear_model import LogisticRegression\n",
    "cc_model = ClassifierChain(LogisticRegression(solver='lbfgs'))\n",
    "cc_model.fit(x_train, y_train)\n",
    "cc_output = cc_model.predict(x_test)"
   ]
  },
  {
   "cell_type": "code",
   "execution_count": 33,
   "metadata": {
    "colab": {
     "base_uri": "https://localhost:8080/",
     "height": 68
    },
    "colab_type": "code",
    "id": "dhiQDjZeGva-",
    "outputId": "5b141511-d20b-4dae-d763-f3679eb8e4bc"
   },
   "outputs": [
    {
     "name": "stdout",
     "output_type": "stream",
     "text": [
      "Accuracy Score =  0.90625\n",
      "\n",
      "\n"
     ]
    }
   ],
   "source": [
    "print(\"Accuracy Score = \",accuracy_score(y_test,cc_output))\n",
    "print(\"\\n\")"
   ]
  }
 ],
 "metadata": {
  "accelerator": "GPU",
  "colab": {
   "machine_shape": "hm",
   "name": "ADM_Proj.ipynb",
   "provenance": [],
   "toc_visible": true
  },
  "kernelspec": {
   "display_name": "Python 3",
   "language": "python",
   "name": "python3"
  },
  "language_info": {
   "codemirror_mode": {
    "name": "ipython",
    "version": 3
   },
   "file_extension": ".py",
   "mimetype": "text/x-python",
   "name": "python",
   "nbconvert_exporter": "python",
   "pygments_lexer": "ipython3",
   "version": "3.7.4"
  }
 },
 "nbformat": 4,
 "nbformat_minor": 1
}
